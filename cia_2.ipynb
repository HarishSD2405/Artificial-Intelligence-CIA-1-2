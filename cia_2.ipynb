{
 "cells": [
  {
   "cell_type": "code",
   "execution_count": 1,
   "metadata": {},
   "outputs": [],
   "source": [
    "import math\n",
    "MAX, MIN = math.inf, -math.inf\n",
    "\n",
    "def pruning(depth, nodeIndex, maximizingPlayer, values, alpha, beta): \n",
    "\n",
    "    if depth == 3: \n",
    "        print(f\"Leaf node reached at depth {depth}, returning value: {values[nodeIndex]}\")\n",
    "        return values[nodeIndex] \n",
    "\n",
    "    if maximizingPlayer: \n",
    "        best = MIN\n",
    "        print(f\"Maximizer at depth {depth}\")\n",
    "        for i in range(2): \n",
    "            val = pruning(depth + 1, nodeIndex * 2 + i, False, values, alpha, beta) \n",
    "            print(f\"Maximizer at depth {depth}, comparing value: {val} with best: {best}\")\n",
    "            best = max(best, val) \n",
    "            alpha = max(alpha, best) \n",
    "            if beta <= alpha: \n",
    "                print(f\"Pruning branches at depth {depth} as beta <= alpha ({beta} <= {alpha})\")\n",
    "                break\n",
    "        print(f\"Maximizer at depth {depth}, selected best: {best}\")\n",
    "        return best \n",
    "    else:\n",
    "        best = MAX\n",
    "        print(f\"Minimizer at depth {depth}\")\n",
    "        for i in range(2): \n",
    "            val = pruning(depth + 1, nodeIndex * 2 + i, True, values, alpha, beta) \n",
    "            print(f\"Minimizer at depth {depth}, comparing value: {val} with best: {best}\")\n",
    "            best = min(best, val) \n",
    "            beta = min(beta, best) \n",
    "            if beta <= alpha: \n",
    "                print(f\"Pruning branches at depth {depth} as beta <= alpha ({beta} <= {alpha})\")\n",
    "                break\n",
    "        print(f\"Minimizer at depth {depth}, selected best: {best}\")\n",
    "        return best"
   ]
  },
  {
   "cell_type": "code",
   "execution_count": 2,
   "metadata": {},
   "outputs": [
    {
     "name": "stdout",
     "output_type": "stream",
     "text": [
      "Maximizer at depth 0\n",
      "Minimizer at depth 1\n",
      "Maximizer at depth 2\n",
      "Leaf node reached at depth 3, returning value: -1\n",
      "Maximizer at depth 2, comparing value: -1 with best: -inf\n",
      "Leaf node reached at depth 3, returning value: 4\n",
      "Maximizer at depth 2, comparing value: 4 with best: -1\n",
      "Maximizer at depth 2, selected best: 4\n",
      "Minimizer at depth 1, comparing value: 4 with best: inf\n",
      "Maximizer at depth 2\n",
      "Leaf node reached at depth 3, returning value: 2\n",
      "Maximizer at depth 2, comparing value: 2 with best: -inf\n",
      "Leaf node reached at depth 3, returning value: 6\n",
      "Maximizer at depth 2, comparing value: 6 with best: 2\n",
      "Pruning branches at depth 2 as beta <= alpha (4 <= 6)\n",
      "Maximizer at depth 2, selected best: 6\n",
      "Minimizer at depth 1, comparing value: 6 with best: 4\n",
      "Minimizer at depth 1, selected best: 4\n",
      "Maximizer at depth 0, comparing value: 4 with best: -inf\n",
      "Minimizer at depth 1\n",
      "Maximizer at depth 2\n",
      "Leaf node reached at depth 3, returning value: -3\n",
      "Maximizer at depth 2, comparing value: -3 with best: -inf\n",
      "Leaf node reached at depth 3, returning value: -5\n",
      "Maximizer at depth 2, comparing value: -5 with best: -3\n",
      "Maximizer at depth 2, selected best: -3\n",
      "Minimizer at depth 1, comparing value: -3 with best: inf\n",
      "Pruning branches at depth 1 as beta <= alpha (-3 <= 4)\n",
      "Minimizer at depth 1, selected best: -3\n",
      "Maximizer at depth 0, comparing value: -3 with best: 4\n",
      "Maximizer at depth 0, selected best: 4\n",
      "\n",
      "The optimal value is: 4\n"
     ]
    }
   ],
   "source": [
    "maxDepth = 3\n",
    "values = [-1, 4, 2, 6, -3, -5, 0, 7]\n",
    "optimalValue = pruning(0, 0, True, values, MIN, MAX)\n",
    "print(\"\\nThe optimal value is:\", optimalValue)"
   ]
  }
 ],
 "metadata": {
  "kernelspec": {
   "display_name": "Python 3",
   "language": "python",
   "name": "python3"
  },
  "language_info": {
   "codemirror_mode": {
    "name": "ipython",
    "version": 3
   },
   "file_extension": ".py",
   "mimetype": "text/x-python",
   "name": "python",
   "nbconvert_exporter": "python",
   "pygments_lexer": "ipython3",
   "version": "3.12.3"
  }
 },
 "nbformat": 4,
 "nbformat_minor": 2
}
